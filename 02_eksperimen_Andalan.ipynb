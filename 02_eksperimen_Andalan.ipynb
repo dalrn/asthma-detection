{
 "cells": [
  {
   "cell_type": "markdown",
   "id": "72f132d2",
   "metadata": {},
   "source": [
    "### Nyoba bikin prediksi aja dulu, tanpa pre-trained model dan preprocessing aneh-aneh"
   ]
  },
  {
   "cell_type": "code",
   "execution_count": 8,
   "id": "0a94a075",
   "metadata": {},
   "outputs": [],
   "source": [
    "import os\n",
    "import numpy as np\n",
    "import librosa\n",
    "from sklearn.model_selection import train_test_split\n",
    "from sklearn.ensemble import RandomForestClassifier\n",
    "from sklearn.metrics import classification_report, confusion_matrix\n",
    "from collections import Counter"
   ]
  },
  {
   "cell_type": "code",
   "execution_count": 9,
   "id": "2b6c0296",
   "metadata": {},
   "outputs": [],
   "source": [
    "# Paths\n",
    "base_dir = \"./dataset/Synaptic\"\n",
    "disease_dir = os.path.join(base_dir, \"Disease\")\n",
    "healthy_dir = os.path.join(base_dir, \"Healthy\")"
   ]
  },
  {
   "cell_type": "code",
   "execution_count": 7,
   "id": "cc30d100",
   "metadata": {},
   "outputs": [
    {
     "name": "stdout",
     "output_type": "stream",
     "text": [
      "Total files: 2026, Classes: {'Lung_Fibrosis', 'Pneumonia', 'COPD', 'Plueral_Effusion', 'Bronchiolitis', 'Asthma', 'URTI', 'Bronchiectasis', 'Healthy', 'Bronchitis'}\n"
     ]
    }
   ],
   "source": [
    "# Collect files and labels\n",
    "files, labels = [], []\n",
    "\n",
    "# Add disease classes\n",
    "for disease in os.listdir(disease_dir):\n",
    "    class_path = os.path.join(disease_dir, disease)\n",
    "    if os.path.isdir(class_path):\n",
    "        for fname in os.listdir(class_path):\n",
    "            if fname.endswith(\".wav\"):\n",
    "                files.append(os.path.join(class_path, fname))\n",
    "                labels.append(disease)\n",
    "\n",
    "# Add healthy class\n",
    "for fname in os.listdir(healthy_dir):\n",
    "    if fname.endswith(\".wav\"):\n",
    "        files.append(os.path.join(healthy_dir, fname))\n",
    "        labels.append(\"Healthy\")\n",
    "\n",
    "print(f\"Total files: {len(files)}, Classes: {set(labels)}\")"
   ]
  },
  {
   "cell_type": "code",
   "execution_count": 10,
   "id": "0512df44",
   "metadata": {},
   "outputs": [
    {
     "name": "stdout",
     "output_type": "stream",
     "text": [
      "Class distribution:\n",
      "Asthma: 111\n",
      "Bronchiectasis: 105\n",
      "Bronchiolitis: 164\n",
      "Bronchitis: 53\n",
      "COPD: 115\n",
      "Lung_Fibrosis: 114\n",
      "Plueral_Effusion: 52\n",
      "Pneumonia: 160\n",
      "URTI: 101\n",
      "Healthy: 1051\n"
     ]
    }
   ],
   "source": [
    "# After building labels list\n",
    "class_counts = Counter(labels)\n",
    "\n",
    "print(\"Class distribution:\")\n",
    "for cls, count in class_counts.items():\n",
    "    print(f\"{cls}: {count}\")"
   ]
  },
  {
   "cell_type": "code",
   "execution_count": 11,
   "id": "4ff31b47",
   "metadata": {},
   "outputs": [
    {
     "name": "stdout",
     "output_type": "stream",
     "text": [
      "Feature matrix shape: (2026, 20)\n"
     ]
    }
   ],
   "source": [
    "# Feature extraction function\n",
    "def extract_features(filepath, n_mfcc=20):\n",
    "    y, sr = librosa.load(filepath, sr=None)\n",
    "    mfcc = librosa.feature.mfcc(y=y, sr=sr, n_mfcc=n_mfcc)\n",
    "    # Take mean over time (so it's fixed-length vector)\n",
    "    return np.mean(mfcc, axis=1)\n",
    "\n",
    "# Build dataset\n",
    "X, y = [], []\n",
    "for f, label in zip(files, labels):\n",
    "    try:\n",
    "        feat = extract_features(f)\n",
    "        X.append(feat)\n",
    "        y.append(label)\n",
    "    except Exception as e:\n",
    "        print(f\"Error processing {f}: {e}\")\n",
    "\n",
    "X = np.array(X)\n",
    "y = np.array(y)\n",
    "\n",
    "print(\"Feature matrix shape:\", X.shape)"
   ]
  },
  {
   "cell_type": "code",
   "execution_count": 13,
   "id": "f1832ced",
   "metadata": {},
   "outputs": [
    {
     "name": "stdout",
     "output_type": "stream",
     "text": [
      "Classification Report:\n",
      "                  precision    recall  f1-score   support\n",
      "\n",
      "          Asthma       0.70      0.32      0.44        22\n",
      "  Bronchiectasis       1.00      1.00      1.00        21\n",
      "   Bronchiolitis       0.94      1.00      0.97        33\n",
      "      Bronchitis       0.80      0.73      0.76        11\n",
      "            COPD       0.93      0.61      0.74        23\n",
      "         Healthy       0.89      1.00      0.94       211\n",
      "   Lung_Fibrosis       1.00      0.74      0.85        23\n",
      "Plueral_Effusion       0.82      0.90      0.86        10\n",
      "       Pneumonia       0.93      0.88      0.90        32\n",
      "            URTI       0.95      0.90      0.92        20\n",
      "\n",
      "        accuracy                           0.90       406\n",
      "       macro avg       0.90      0.81      0.84       406\n",
      "    weighted avg       0.90      0.90      0.89       406\n",
      "\n",
      "Confusion Matrix:\n",
      "[[  7   0   0   2   1   9   0   1   2   0]\n",
      " [  0  21   0   0   0   0   0   0   0   0]\n",
      " [  0   0  33   0   0   0   0   0   0   0]\n",
      " [  0   0   0   8   0   3   0   0   0   0]\n",
      " [  2   0   0   0  14   6   0   1   0   0]\n",
      " [  0   0   0   0   0 211   0   0   0   0]\n",
      " [  0   0   0   0   0   6  17   0   0   0]\n",
      " [  0   0   0   0   0   1   0   9   0   0]\n",
      " [  1   0   1   0   0   1   0   0  28   1]\n",
      " [  0   0   1   0   0   1   0   0   0  18]]\n"
     ]
    }
   ],
   "source": [
    "# Train-test split\n",
    "X_train, X_test, y_train, y_test = train_test_split(X, y, test_size=0.2, stratify=y, random_state=42)\n",
    "\n",
    "# Baseline model\n",
    "model = RandomForestClassifier(n_estimators=100, random_state=42)\n",
    "model.fit(X_train, y_train)\n",
    "\n",
    "# Evaluation\n",
    "y_pred = model.predict(X_test)\n",
    "\n",
    "print(\"Classification Report:\")\n",
    "print(classification_report(y_test, y_pred))\n",
    "\n",
    "print(\"Confusion Matrix:\")\n",
    "print(confusion_matrix(y_test, y_pred))"
   ]
  },
  {
   "cell_type": "code",
   "execution_count": null,
   "id": "ae5d0a37",
   "metadata": {},
   "outputs": [],
   "source": []
  }
 ],
 "metadata": {
  "kernelspec": {
   "display_name": "Python (SEC)",
   "language": "python",
   "name": "sec"
  },
  "language_info": {
   "codemirror_mode": {
    "name": "ipython",
    "version": 3
   },
   "file_extension": ".py",
   "mimetype": "text/x-python",
   "name": "python",
   "nbconvert_exporter": "python",
   "pygments_lexer": "ipython3",
   "version": "3.10.0"
  }
 },
 "nbformat": 4,
 "nbformat_minor": 5
}
