{
 "cells": [
  {
   "cell_type": "markdown",
   "id": "2fb322a0",
   "metadata": {},
   "source": [
    "ini punya muti"
   ]
  },
  {
   "cell_type": "markdown",
   "id": "7869d50d",
   "metadata": {},
   "source": [
    "aaaaaaaaaaaaa"
   ]
  },
  {
   "cell_type": "markdown",
   "id": "dc849e80",
   "metadata": {},
   "source": []
  },
  {
   "cell_type": "code",
   "execution_count": 2,
   "id": "7d59ee9f",
   "metadata": {},
   "outputs": [],
   "source": [
    "import numpy as pd"
   ]
  },
  {
   "cell_type": "code",
   "execution_count": 3,
   "id": "6aac6365",
   "metadata": {},
   "outputs": [
    {
     "ename": "NameError",
     "evalue": "name 'gsxy' is not defined",
     "output_type": "error",
     "traceback": [
      "\u001b[31m---------------------------------------------------------------------------\u001b[39m",
      "\u001b[31mNameError\u001b[39m                                 Traceback (most recent call last)",
      "\u001b[36mCell\u001b[39m\u001b[36m \u001b[39m\u001b[32mIn[3]\u001b[39m\u001b[32m, line 1\u001b[39m\n\u001b[32m----> \u001b[39m\u001b[32m1\u001b[39m \u001b[43mgsxy\u001b[49m\n",
      "\u001b[31mNameError\u001b[39m: name 'gsxy' is not defined"
     ]
    }
   ],
   "source": [
    "gsxy"
   ]
  },
  {
   "cell_type": "code",
   "execution_count": 4,
   "id": "15e62f03",
   "metadata": {},
   "outputs": [],
   "source": [
    "import pandas as np"
   ]
  }
 ],
 "metadata": {
  "kernelspec": {
   "display_name": "Python 3",
   "language": "python",
   "name": "python3"
  },
  "language_info": {
   "codemirror_mode": {
    "name": "ipython",
    "version": 3
   },
   "file_extension": ".py",
   "mimetype": "text/x-python",
   "name": "python",
   "nbconvert_exporter": "python",
   "pygments_lexer": "ipython3",
   "version": "3.11.9"
  }
 },
 "nbformat": 4,
 "nbformat_minor": 5
}
